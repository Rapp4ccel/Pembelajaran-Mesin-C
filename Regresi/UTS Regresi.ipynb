{
 "cells": [
  {
   "cell_type": "code",
   "execution_count": 1,
   "id": "33939287",
   "metadata": {},
   "outputs": [],
   "source": [
    "# mengimport library yang diperlukan\n",
    "import pandas as pd\n",
    "import numpy as np\n",
    "from sklearn.model_selection import train_test_split\n",
    "from sklearn.linear_model import LinearRegression\n",
    "from sklearn.metrics import mean_squared_error, r2_score\n",
    "import matplotlib.pyplot as plt"
   ]
  },
  {
   "cell_type": "code",
   "execution_count": 2,
   "id": "aa26667d",
   "metadata": {},
   "outputs": [],
   "source": [
    "# membaca dataset yang ditampung pada variabel dataset menggunakan pandas\n",
    "dataset = pd.read_csv('R04_corruptions.csv')"
   ]
  },
  {
   "cell_type": "code",
   "execution_count": 3,
   "id": "f96cc475",
   "metadata": {},
   "outputs": [],
   "source": [
    "# pemilihan variable\n",
    "# Variabel independen (X) dipilih sebagai 'Government Transparency (Y)' \n",
    "# dan variabel dependen (y) dipilih sebagai 'Corruption Perception (X)'\n",
    "X = dataset[['Government Transparency (Y)']]\n",
    "y = dataset['Corruption Perception (X)']"
   ]
  },
  {
   "cell_type": "code",
   "execution_count": 4,
   "id": "bd7c6f9c",
   "metadata": {},
   "outputs": [],
   "source": [
    "# Pembagian data\n",
    "# Data dibagi menjadi data training dan data testing menggunakan train_test_split dari scikit-learn.\n",
    "# Sebanyak 80% data digunakan untuk training (X_train, y_train), dan 20% untuk testing (X_test, y_test).\n",
    "X_train, X_test, y_train, y_test = train_test_split(X, y, test_size=0.2, random_state=42)"
   ]
  },
  {
   "cell_type": "code",
   "execution_count": 5,
   "id": "36d4833d",
   "metadata": {},
   "outputs": [
    {
     "data": {
      "text/html": [
       "<style>#sk-container-id-1 {color: black;}#sk-container-id-1 pre{padding: 0;}#sk-container-id-1 div.sk-toggleable {background-color: white;}#sk-container-id-1 label.sk-toggleable__label {cursor: pointer;display: block;width: 100%;margin-bottom: 0;padding: 0.3em;box-sizing: border-box;text-align: center;}#sk-container-id-1 label.sk-toggleable__label-arrow:before {content: \"▸\";float: left;margin-right: 0.25em;color: #696969;}#sk-container-id-1 label.sk-toggleable__label-arrow:hover:before {color: black;}#sk-container-id-1 div.sk-estimator:hover label.sk-toggleable__label-arrow:before {color: black;}#sk-container-id-1 div.sk-toggleable__content {max-height: 0;max-width: 0;overflow: hidden;text-align: left;background-color: #f0f8ff;}#sk-container-id-1 div.sk-toggleable__content pre {margin: 0.2em;color: black;border-radius: 0.25em;background-color: #f0f8ff;}#sk-container-id-1 input.sk-toggleable__control:checked~div.sk-toggleable__content {max-height: 200px;max-width: 100%;overflow: auto;}#sk-container-id-1 input.sk-toggleable__control:checked~label.sk-toggleable__label-arrow:before {content: \"▾\";}#sk-container-id-1 div.sk-estimator input.sk-toggleable__control:checked~label.sk-toggleable__label {background-color: #d4ebff;}#sk-container-id-1 div.sk-label input.sk-toggleable__control:checked~label.sk-toggleable__label {background-color: #d4ebff;}#sk-container-id-1 input.sk-hidden--visually {border: 0;clip: rect(1px 1px 1px 1px);clip: rect(1px, 1px, 1px, 1px);height: 1px;margin: -1px;overflow: hidden;padding: 0;position: absolute;width: 1px;}#sk-container-id-1 div.sk-estimator {font-family: monospace;background-color: #f0f8ff;border: 1px dotted black;border-radius: 0.25em;box-sizing: border-box;margin-bottom: 0.5em;}#sk-container-id-1 div.sk-estimator:hover {background-color: #d4ebff;}#sk-container-id-1 div.sk-parallel-item::after {content: \"\";width: 100%;border-bottom: 1px solid gray;flex-grow: 1;}#sk-container-id-1 div.sk-label:hover label.sk-toggleable__label {background-color: #d4ebff;}#sk-container-id-1 div.sk-serial::before {content: \"\";position: absolute;border-left: 1px solid gray;box-sizing: border-box;top: 0;bottom: 0;left: 50%;z-index: 0;}#sk-container-id-1 div.sk-serial {display: flex;flex-direction: column;align-items: center;background-color: white;padding-right: 0.2em;padding-left: 0.2em;position: relative;}#sk-container-id-1 div.sk-item {position: relative;z-index: 1;}#sk-container-id-1 div.sk-parallel {display: flex;align-items: stretch;justify-content: center;background-color: white;position: relative;}#sk-container-id-1 div.sk-item::before, #sk-container-id-1 div.sk-parallel-item::before {content: \"\";position: absolute;border-left: 1px solid gray;box-sizing: border-box;top: 0;bottom: 0;left: 50%;z-index: -1;}#sk-container-id-1 div.sk-parallel-item {display: flex;flex-direction: column;z-index: 1;position: relative;background-color: white;}#sk-container-id-1 div.sk-parallel-item:first-child::after {align-self: flex-end;width: 50%;}#sk-container-id-1 div.sk-parallel-item:last-child::after {align-self: flex-start;width: 50%;}#sk-container-id-1 div.sk-parallel-item:only-child::after {width: 0;}#sk-container-id-1 div.sk-dashed-wrapped {border: 1px dashed gray;margin: 0 0.4em 0.5em 0.4em;box-sizing: border-box;padding-bottom: 0.4em;background-color: white;}#sk-container-id-1 div.sk-label label {font-family: monospace;font-weight: bold;display: inline-block;line-height: 1.2em;}#sk-container-id-1 div.sk-label-container {text-align: center;}#sk-container-id-1 div.sk-container {/* jupyter's `normalize.less` sets `[hidden] { display: none; }` but bootstrap.min.css set `[hidden] { display: none !important; }` so we also need the `!important` here to be able to override the default hidden behavior on the sphinx rendered scikit-learn.org. See: https://github.com/scikit-learn/scikit-learn/issues/21755 */display: inline-block !important;position: relative;}#sk-container-id-1 div.sk-text-repr-fallback {display: none;}</style><div id=\"sk-container-id-1\" class=\"sk-top-container\"><div class=\"sk-text-repr-fallback\"><pre>LinearRegression()</pre><b>In a Jupyter environment, please rerun this cell to show the HTML representation or trust the notebook. <br />On GitHub, the HTML representation is unable to render, please try loading this page with nbviewer.org.</b></div><div class=\"sk-container\" hidden><div class=\"sk-item\"><div class=\"sk-estimator sk-toggleable\"><input class=\"sk-toggleable__control sk-hidden--visually\" id=\"sk-estimator-id-1\" type=\"checkbox\" checked><label for=\"sk-estimator-id-1\" class=\"sk-toggleable__label sk-toggleable__label-arrow\">LinearRegression</label><div class=\"sk-toggleable__content\"><pre>LinearRegression()</pre></div></div></div></div></div>"
      ],
      "text/plain": [
       "LinearRegression()"
      ]
     },
     "execution_count": 5,
     "metadata": {},
     "output_type": "execute_result"
    }
   ],
   "source": [
    "# Pembentukan model\n",
    "# Model regresi linier (LinearRegression()) dibentuk dan dilatih menggunakan data training (X_train, y_train)\n",
    "# dengan memanggil metode fit().\n",
    "model = LinearRegression()\n",
    "model.fit(X_train, y_train)"
   ]
  },
  {
   "cell_type": "code",
   "execution_count": 6,
   "id": "282d2b11",
   "metadata": {},
   "outputs": [],
   "source": [
    "# Prediksi dan evaluasi model\n",
    "# Model digunakan untuk melakukan prediksi pada data testing (X_test) dan hasilnya disimpan dalam y_pred.\n",
    "# Evaluasi model dilakukan dengan menghitung Mean Squared Error (mean_squared_error) dan R-squared Score (r2_score).\n",
    "y_pred = model.predict(X_test)\n",
    "mse = mean_squared_error(y_test, y_pred)\n",
    "r2 = r2_score(y_test, y_pred)"
   ]
  },
  {
   "cell_type": "code",
   "execution_count": 7,
   "id": "907af075",
   "metadata": {},
   "outputs": [
    {
     "name": "stdout",
     "output_type": "stream",
     "text": [
      "Mean Squared Error: 0.12441088495080364\n",
      "R^2 Score: 0.8487671581369576\n"
     ]
    }
   ],
   "source": [
    "# Menampilkan hasil\n",
    "# Hasil evaluasi model, yaitu Mean Squared Error dan R-squared Score, dicetak ke layar.\n",
    "print(f'Mean Squared Error: {mse}')\n",
    "print(f'R^2 Score: {r2}')\n",
    "# Mean Squared Error (MSE) sebesar 0.1244, mengindikasikan rata-rata kuadrat dari selisih antara nilai sebenarnya \n",
    "# dan nilai prediksi. Nilai MSE yang lebih rendah menunjukkan kualitas prediksi yang lebih baik.\n",
    "# R-squared Score (R^2) sebesar 0.8488, yang merupakan koefisien determinasi. R^2 Score mendekati 1 menandakan bahwa \n",
    "# model secara baik menjelaskan variabilitas dalam data. Nilai 0.8488 menunjukkan bahwa model regresi linier dengan \n",
    "# variabel 'Government Transparency' cukup baik dalam menjelaskan variabilitas korupsi dalam dataset."
   ]
  },
  {
   "cell_type": "code",
   "execution_count": 14,
   "id": "49d42ee0",
   "metadata": {},
   "outputs": [
    {
     "name": "stderr",
     "output_type": "stream",
     "text": [
      "C:\\Users\\adise\\AppData\\Local\\Programs\\Python\\Python311\\Lib\\site-packages\\sklearn\\base.py:465: UserWarning: X does not have valid feature names, but LinearRegression was fitted with feature names\n",
      "  warnings.warn(\n"
     ]
    }
   ],
   "source": [
    "tingkat_transparency_uji = 73\n",
    "# menetapkan tingkat Government Transparency yang ingin diuji sebesar 73.\n",
    "new_data = np.array([[tingkat_transparency_uji]])\n",
    "# kita membuat array numpy dari nilai `tingkat_transparency_uji` dalam format yang sesuai dengan input model. \n",
    "# Model memerlukan input dalam bentuk array dua dimensi.\n",
    "predicted_cpi = model.predict(new_data)\n",
    "# Model digunakan untuk memprediksi nilai Corruption Perception berdasarkan tingkat Government Transparency pada data baru. \n",
    "# Hasil prediksi disimpan dalam variabel `predicted_cpi`."
   ]
  },
  {
   "cell_type": "code",
   "execution_count": 15,
   "id": "1c86bb3e",
   "metadata": {},
   "outputs": [
    {
     "name": "stdout",
     "output_type": "stream",
     "text": [
      "Predicted CPI for Government Transparency 73: 2.632300357568533\n"
     ]
    }
   ],
   "source": [
    "print(f'Predicted CPI for Government Transparency {tingkat_transparency_uji}: {predicted_cpi[0]}')\n",
    "# Hasil prediksi Corruption Perception kemudian dicetak ke layar. Dalam contoh ini, hasil prediksi adalah sekitar \n",
    "# 2.6323 untuk tingkat Government Transparency sebesar 73."
   ]
  },
  {
   "cell_type": "code",
   "execution_count": 16,
   "id": "131abe5e",
   "metadata": {},
   "outputs": [
    {
     "data": {
      "image/png": "[encoded data removed]",
      "text/plain": [
       "<Figure size 640x480 with 1 Axes>"
      ]
     },
     "metadata": {},
     "output_type": "display_data"
    }
   ],
   "source": [
    "plt.scatter(X_test, y_test, color='black')\n",
    "# Scatter plot digunakan untuk menampilkan titik-titik hitam yang mewakili data uji. \n",
    "# Pada sumbu x, kita memiliki tingkat Government Transparency (variabel independen), dan pada sumbu y, kita memiliki nilai \n",
    "# Corruption Perception (variabel dependen). Setiap titik hitam merepresentasikan satu data uji.\n",
    "plt.plot(X_test, y_pred, color='blue', linewidth=3)\n",
    "# Garis regresi linear yang dihasilkan oleh model ditampilkan sebagai garis biru pada plot. \n",
    "# Garis ini mencoba untuk \"memotret\" pola hubungan linier antara tingkat Government Transparency dan nilai Corruption Perception \n",
    "# yang dipelajari oleh model selama pelatihan.\n",
    "plt.title('Regresi Linier antara Government Transparency dan CPI')\n",
    "# Memberikan judul plot untuk memberikan konteks tentang apa yang sedang ditampilkan, yaitu regresi linier antara tingkat \n",
    "# Government Transparency dan nilai Corruption Perception.\n",
    "plt.xlabel('Government Transparency')\n",
    "plt.ylabel('CPI')\n",
    "# Memberikan label pada sumbu x dan sumbu y, membantu membaca dan menginterpretasi plot dengan menyebutkan variabel apa \n",
    "# yang diwakili oleh setiap sumbu.\n",
    "plt.show()\n",
    "# Menampilkan plot secara keseluruhan."
   ]
  },
  {
   "cell_type": "code",
   "execution_count": null,
   "id": "26dcf129",
   "metadata": {},
   "outputs": [],
   "source": [
    "# Jika titik-titik cenderung mengikuti garis regresi, itu menunjukkan adanya hubungan linier antara variabel independen dan \n",
    "# dependen. Seperti yang terlihat, titik-titik cenderung mengikuti garis regresi. Berarti ada hubungan linear antara \n",
    "# Government Transparency dan Corruption Perception."
   ]
  },
  {
   "cell_type": "code",
   "execution_count": 13,
   "id": "317892b9",
   "metadata": {},
   "outputs": [
    {
     "name": "stdout",
     "output_type": "stream",
     "text": [
      "Unique Transparency Values in Training Data: [68 65 73 57 53 55 60 63 66 78 69 62 71 61 75 80 54 72 59 58 51 82 50 52\n",
      " 70 76 56]\n",
      "count    44.000000\n",
      "mean     64.340909\n",
      "std       9.154852\n",
      "min      50.000000\n",
      "25%      57.000000\n",
      "50%      63.000000\n",
      "75%      71.250000\n",
      "max      82.000000\n",
      "Name: Government Transparency (Y), dtype: float64\n"
     ]
    }
   ],
   "source": [
    "# Menampilkan nilai unik dari kolom Government_Transparency pada dataset latih\n",
    "unique_transparency_values = X_train['Government Transparency (Y)'].unique()\n",
    "print(f'Unique Transparency Values in Training Data: {unique_transparency_values}')\n",
    "\n",
    "# Menampilkan statistik deskriptif dari kolom Government_Transparency pada dataset latih\n",
    "print(X_train['Government Transparency (Y)'].describe())\n"
   ]
  }
 ],
 "metadata": {
  "kernelspec": {
   "display_name": "Python 3 (ipykernel)",
   "language": "python",
   "name": "python3"
  },
  "language_info": {
   "codemirror_mode": {
    "name": "ipython",
    "version": 3
   },
   "file_extension": ".py",
   "mimetype": "text/x-python",
   "name": "python",
   "nbconvert_exporter": "python",
   "pygments_lexer": "ipython3",
   "version": "3.11.4"
  }
 },
 "nbformat": 4,
 "nbformat_minor": 5
}
